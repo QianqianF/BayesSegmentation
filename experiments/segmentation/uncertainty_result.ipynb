{
 "cells": [
  {
   "cell_type": "code",
   "execution_count": 1,
   "metadata": {},
   "outputs": [
    {
     "name": "stderr",
     "output_type": "stream",
     "text": [
      "\n",
      "Bad key \"text.kerning_factor\" on line 4 in\n",
      "/Users/Qianqian/anaconda3/envs/ml/lib/python3.8/site-packages/matplotlib/mpl-data/stylelib/_classic_test_patch.mplstyle.\n",
      "You probably need to get an updated matplotlibrc file from\n",
      "https://github.com/matplotlib/matplotlib/blob/v3.1.2/matplotlibrc.template\n",
      "or from the matplotlib source distribution\n"
     ]
    }
   ],
   "source": [
    "import numpy as np\n",
    "\n",
    "import matplotlib.pyplot as plt\n",
    "%matplotlib inline"
   ]
  },
  {
   "cell_type": "code",
   "execution_count": 2,
   "metadata": {},
   "outputs": [],
   "source": [
    "def numpy_metrics(y_pred, y_true, n_classes=11, void_labels=[11]):\n",
    "    \"\"\"\n",
    "    Similar to theano_metrics to metrics but instead y_pred and y_true are now numpy arrays\n",
    "    from: https://github.com/SimJeg/FC-DenseNet/blob/master/metrics.py\n",
    "    void label is 11 by default\n",
    "    \"\"\"\n",
    "\n",
    "    # Put y_pred and y_true under the same shape\n",
    "    y_pred = np.argmax(y_pred, axis=1)\n",
    "\n",
    "    # We use not_void in case the prediction falls in the void class of the groundtruth\n",
    "    not_void = ~np.any([y_true == label for label in void_labels], axis=0)\n",
    "\n",
    "    I = np.zeros(n_classes)\n",
    "    U = np.zeros(n_classes)\n",
    "\n",
    "    for i in range(n_classes):\n",
    "        y_true_i = y_true == i\n",
    "        y_pred_i = y_pred == i\n",
    "\n",
    "        I[i] = np.sum(y_true_i & y_pred_i)\n",
    "        U[i] = np.sum((y_true_i | y_pred_i) & not_void)\n",
    "\n",
    "    accuracy = np.sum(I) / np.sum(not_void)\n",
    "    return I, U, accuracy"
   ]
  },
  {
   "cell_type": "code",
   "execution_count": 3,
   "metadata": {},
   "outputs": [],
   "source": [
    "def eval_uncertaintry_metrics(y_pred, y_true, uncertainty_map, patch_size=7, acc_threshold=0.5, cert_threshold=0.4):\n",
    "    #TODO verify y_pred, y_true size and representation\n",
    "    # Assume y_pred (batch_size, num_classes, h, w) where h = w = 224\n",
    "    # y_true (batch_size, h, w)\n",
    "\n",
    "    batch_size, num_classes, w, h = y_pred.shape\n",
    "\n",
    "    # Put y_pred and y_true under the same shape\n",
    "    y_pred = np.argmax(y_pred, axis=1)\n",
    "    \n",
    "    acc_flag = y_pred == y_true\n",
    "    acc_grid = acc_flag.reshape(batch_size, w//patch_size, patch_size, h//patch_size, patch_size)\n",
    "    acc_grid = np.swapaxes(acc_grid, 2, 3).reshape(batch_size, -1, patch_size, patch_size)\n",
    "    _, num_patch, _, _ = acc_grid.shape\n",
    "    acc_rate = np.sum(np.sum(acc_grid, axis=3), axis=2)/(patch_size * patch_size) # (batch_size, w//patch_size * h//patch_size)\n",
    "\n",
    "    cert_grid = uncertainty_map.reshape(batch_size, w//patch_size, patch_size, h//patch_size, patch_size)\n",
    "    cert_grid = np.swapaxes(cert_grid, 2, 3).reshape(batch_size, -1, patch_size, patch_size)\n",
    "    cert_rate = cert_grid.mean(axis=(2,3)) # (batch_size, w//patch_size * h//patch_size)\n",
    "\n",
    "    acc = acc_rate >= acc_threshold\n",
    "    cert = cert_rate < cert_threshold\n",
    "    \n",
    "    ac = np.logical_and(acc, cert)\n",
    "    au = np.logical_and(acc, np.logical_not(cert))\n",
    "    ic = np.logical_and(np.logical_not(acc), cert)\n",
    "    iu = np.logical_and(np.logical_not(acc), np.logical_not(cert))\n",
    "    \n",
    "    n_ac = np.sum(ac, axis=1)\n",
    "    n_au = np.sum(au, axis=1)\n",
    "    n_ic = np.sum(ic, axis=1)\n",
    "    n_iu = np.sum(iu, axis=1)\n",
    "\n",
    "    p_a_c = n_ac/(n_ac + n_ic) # p(accurate|certain)\n",
    "    p_u_i = n_iu/(n_ic + n_iu) # p(uncertain|inaccurate)\n",
    "    pa_v_pu = (n_ac + n_iu)/num_patch # Patch Accuracy vs Patch Uncertainty\n",
    "    \n",
    "    ac = ac.reshape(batch_size, w//patch_size, h//patch_size)\n",
    "    au = au.reshape(batch_size, w//patch_size, h//patch_size)\n",
    "    ic = ic.reshape(batch_size, w//patch_size, h//patch_size)\n",
    "    iu = iu.reshape(batch_size, w//patch_size, h//patch_size)\n",
    "    \n",
    "    print(p_a_c.mean(), p_u_i.mean(), pa_v_pu.mean())\n",
    "    return p_a_c, p_u_i, pa_v_pu, ac, au, ic, iu"
   ]
  },
  {
   "cell_type": "code",
   "execution_count": 4,
   "metadata": {},
   "outputs": [],
   "source": [
    "def softmax(x, axis=1):\n",
    "    return np.exp(x) / np.sum(np.exp(x),axis=axis, keepdims=True)"
   ]
  },
  {
   "cell_type": "code",
   "execution_count": 5,
   "metadata": {},
   "outputs": [],
   "source": [
    "def ece(outputs, labels, name=\"\", bins=np.arange(0.1, 1.05, 0.05), print_name=False, background_label = 11):\n",
    "\n",
    "    if outputs is None:\n",
    "        ece = None\n",
    "    else:\n",
    "        confidences = np.max(outputs, 1)\n",
    "        predictions = np.argmax(outputs,1)\n",
    "        bin_lowers = bins[:-1]\n",
    "        bin_uppers = bins[1:]\n",
    "        \n",
    "        accuracies = predictions == labels \n",
    "\n",
    "        #ece = Variable(torch.zeros(1)).type_as(confidences)\n",
    "        ece = 0.0\n",
    "        for bin_lower, bin_upper in zip(bin_lowers, bin_uppers):\n",
    "            # Calculated |confidence - accuracy| in each bin\n",
    "            in_bin = (confidences > bin_lower) * (confidences < bin_upper)\n",
    "            prop_in_bin = in_bin.mean()\n",
    "            if prop_in_bin > 0:\n",
    "                accuracy_in_bin = accuracies[in_bin].mean()\n",
    "                avg_confidence_in_bin = confidences[in_bin].mean()\n",
    "                ece += np.abs(avg_confidence_in_bin-accuracy_in_bin) * prop_in_bin\n",
    "    if print_name:\n",
    "        print(name, end=\": \")\n",
    "    if ece is not None:\n",
    "        print(\"%.3f\"%ece)\n",
    "    else:\n",
    "        print(\"-\")\n",
    "    return ece\n",
    "\n"
   ]
  },
  {
   "cell_type": "code",
   "execution_count": 6,
   "metadata": {},
   "outputs": [],
   "source": [
    "def compute_mIOU_acc(loc, output_probs = True, background_class = 11):\n",
    "    npz_arr = np.load(loc)\n",
    "    \n",
    "    if output_probs:\n",
    "        pred_probs = npz_arr['predictions']\n",
    "    else:\n",
    "        pred_probs = softmax(npz_arr['preds'],1)\n",
    "    targets = npz_arr['targets']\n",
    "    \n",
    "    I, U, acc = numpy_metrics(pred_probs, targets)\n",
    "    mIOU = np.mean(I / U)\n",
    "    \n",
    "    filtered_targets = targets.reshape(-1)\n",
    "    background_labels = filtered_targets == background_class\n",
    "    filtered_targets = filtered_targets[~background_labels]\n",
    "    \n",
    "    filtered_pred_probs = pred_probs.reshape(-1, pred_probs.shape[1])\n",
    "    print(filtered_pred_probs.shape, filtered_pred_probs.sum(1).mean())\n",
    "    filtered_pred_probs = filtered_pred_probs[~background_labels, :]\n",
    "    \n",
    "    ece_val = ece(filtered_pred_probs, filtered_targets, print_name=False)\n",
    "    print(acc, mIOU, ece_val, loc)\n",
    "    return acc, mIOU, ece_val"
   ]
  },
  {
   "cell_type": "code",
   "execution_count": 7,
   "metadata": {},
   "outputs": [],
   "source": [
    "import os"
   ]
  },
  {
   "cell_type": "code",
   "execution_count": 23,
   "metadata": {},
   "outputs": [
    {
     "name": "stdout",
     "output_type": "stream",
     "text": [
      "(40262400, 11) 1.0000000016474337\n",
      "0.086\n",
      "0.8496942987989597 0.5536408041007554 0.086423484649988 ../../results/dropout6.npz\n",
      "../../results/inputs.npz\n",
      "(40262400, 11) 0.9999987\n",
      "0.090\n",
      "0.9099381577791605 0.6283172410429111 0.09042508274686888 ../../results/ensemble.npz\n",
      "(40262400, 11) 0.25930288\n",
      "0.039\n",
      "0.9012711763834294 0.612040623853118 0.03924290032709632 ../../results/sgd6.npz\n",
      "(40262400, 11) 0.48673734\n",
      "0.037\n",
      "0.9042034564048979 0.6253182325877055 0.0373772587524619 ../../results/swa5.npz\n",
      "(40262400, 11) 1.0000000122375827\n",
      "0.092\n",
      "0.904760288723239 0.6265125311594943 0.09238364787416499 ../../results/swag_cov5.npz\n",
      "(40262400, 11) 1.0000000143747965\n",
      "0.093\n",
      "0.9004973447543877 0.6174847548062444 0.09308999104848473 ../../results/swag_diag2.npz\n",
      "(40262400, 11) 1.0000000132701454\n",
      "0.091\n",
      "0.9107598986823452 0.6394103315447679 0.09122935654335379 ../../results/multiswag_cov.npz\n"
     ]
    }
   ],
   "source": [
    "dir_to_result = '../../results'\n",
    "for f in os.listdir(dir_to_result):\n",
    "    if f[-3:] == 'npz':\n",
    "        try:\n",
    "            compute_mIOU_acc(os.path.join(dir_to_result, f))\n",
    "        except KeyError:\n",
    "            print(os.path.join(dir_to_result, f))\n",
    "            continue"
   ]
  },
  {
   "cell_type": "code",
   "execution_count": 8,
   "metadata": {},
   "outputs": [],
   "source": [
    "dir_to_result = '../../results'\n",
    "inputs = np.load(os.path.join(dir_to_result, 'inputs.npz'))['inputs']"
   ]
  },
  {
   "cell_type": "markdown",
   "metadata": {},
   "source": [
    "Patch size 6"
   ]
  },
  {
   "cell_type": "code",
   "execution_count": 47,
   "metadata": {},
   "outputs": [
    {
     "name": "stdout",
     "output_type": "stream",
     "text": [
      "dropout6.npz\n",
      "0.947075398779665 0.8481554832462865 0.7182188841201718\n",
      "inputs.npz\n",
      "output file not correctly formatted\n",
      "../../results/inputs.npz\n",
      "ensemble.npz\n",
      "0.9647633664858241 0.8152312131800264 0.777925608011445\n",
      "sgd6.npz\n",
      "0.9548770375926187 0.7707448821410925 0.7896557582260372\n",
      "swa5.npz\n",
      "0.9602715628033079 0.7930412956671749 0.7817918454935621\n",
      "swag_cov5.npz\n",
      "0.9617818862074895 0.8016610651827636 0.7800241416309014\n",
      "swag_diag2.npz\n",
      "0.9586136528812584 0.7913964702527173 0.7839851573676682\n",
      "multiswag_cov.npz\n",
      "0.9679518746077506 0.8306625865570391 0.7711310801144492\n"
     ]
    }
   ],
   "source": [
    "for f in os.listdir(dir_to_result):\n",
    "    if f[-3:] == 'npz':\n",
    "        try:\n",
    "            print(f)\n",
    "            npz_arr = np.load(os.path.join(dir_to_result, f))\n",
    "            \n",
    "            targets = npz_arr['targets']\n",
    "            pred = npz_arr['predictions']\n",
    "            pred_uncertainty = npz_arr['predictive_entropy']\n",
    "#             mut_uncertainty = npz_arr['mutual_information']\n",
    "            \n",
    "#             p_a_c, p_u_i, pa_v_pu, ac, au, ic, iu = \\\n",
    "            eval_uncertaintry_metrics(pred, targets, pred_uncertainty, patch_size=6, cert_threshold=pred_uncertainty.mean())\n",
    "            \n",
    "            \n",
    "        except KeyError:\n",
    "            print('output file not correctly formatted')\n",
    "            print(os.path.join(dir_to_result, f))\n",
    "            continue"
   ]
  },
  {
   "cell_type": "markdown",
   "metadata": {},
   "source": [
    "Patch size 4"
   ]
  },
  {
   "cell_type": "code",
   "execution_count": 45,
   "metadata": {},
   "outputs": [
    {
     "name": "stdout",
     "output_type": "stream",
     "text": [
      "dropout6.npz\n",
      "0.9442766047130567 0.8446984047840931 0.7233170402161818\n",
      "inputs.npz\n",
      "output file not correctly formatted\n",
      "../../results/inputs.npz\n",
      "ensemble.npz\n",
      "0.9623225957350021 0.8083692507537 0.7920648545541248\n",
      "sgd6.npz\n",
      "output file not correctly formatted\n",
      "../../results/sgd6.npz\n",
      "swa5.npz\n",
      "output file not correctly formatted\n",
      "../../results/swa5.npz\n",
      "swag_cov5.npz\n",
      "0.9592562464842943 0.7945087497002657 0.7956266889206804\n",
      "swag_diag2.npz\n",
      "0.9556102424885901 0.7810638532148598 0.7996530758226037\n",
      "multiswag_cov.npz\n",
      "0.9658218197983852 0.8245798305710352 0.7849809251311397\n"
     ]
    }
   ],
   "source": [
    "for f in os.listdir(dir_to_result):\n",
    "    if f[-3:] == 'npz':\n",
    "        try:\n",
    "            print(f)\n",
    "            npz_arr = np.load(os.path.join(dir_to_result, f))\n",
    "            \n",
    "            targets = npz_arr['targets']\n",
    "            pred = npz_arr['predictions']\n",
    "            pred_uncertainty = npz_arr['predictive_entropy']\n",
    "            mut_uncertainty = npz_arr['mutual_information']\n",
    "            \n",
    "#             p_a_c, p_u_i, pa_v_pu, ac, au, ic, iu = \\\n",
    "            eval_uncertaintry_metrics(pred, targets, pred_uncertainty, patch_size=4, cert_threshold=pred_uncertainty.mean())\n",
    "            \n",
    "            \n",
    "        except KeyError:\n",
    "            print('output file not correctly formatted')\n",
    "            print(os.path.join(dir_to_result, f))\n",
    "            continue\n"
   ]
  },
  {
   "cell_type": "code",
   "execution_count": 48,
   "metadata": {},
   "outputs": [
    {
     "data": {
      "text/plain": [
       "array([0. , 0.2, 0.4, 0.6, 0.8, 1. ])"
      ]
     },
     "execution_count": 48,
     "metadata": {},
     "output_type": "execute_result"
    }
   ],
   "source": [
    "np.arange(0,1.1,0.2)"
   ]
  },
  {
   "cell_type": "code",
   "execution_count": null,
   "metadata": {},
   "outputs": [],
   "source": []
  },
  {
   "cell_type": "code",
   "execution_count": 9,
   "metadata": {},
   "outputs": [
    {
     "name": "stdout",
     "output_type": "stream",
     "text": [
      "dropout6.npz\n"
     ]
    },
    {
     "name": "stderr",
     "output_type": "stream",
     "text": [
      "<ipython-input-3-fa6f0ea9284c>:34: RuntimeWarning: invalid value encountered in true_divide\n",
      "  p_a_c = n_ac/(n_ac + n_ic) # p(accurate|certain)\n"
     ]
    },
    {
     "name": "stdout",
     "output_type": "stream",
     "text": [
      "nan 1.0 0.16972977269114606\n",
      "0.9714842967045831 0.9393454837483536 0.5814647909712288\n",
      "0.9458751977409657 0.8393717071340734 0.7214711492608489\n",
      "0.9150878016369216 0.6607331773105861 0.799850977587029\n",
      "0.8814158623293396 0.41620070683015914 0.8352249244953106\n",
      "0.8582373504423844 0.2410864894197875 0.8416762041010968\n",
      "0.8448185391553137 0.12480474793242084 0.8402471785089811\n",
      "0.8365534939554692 0.05218558742221471 0.8360828962009218\n",
      "0.8317203499592932 0.011537794406361448 0.8319074868860277\n",
      "0.8303136963596266 0.00034775537684371573 0.8303218884120172\n",
      "0.830270227308854 0.0 0.830270227308854\n",
      "inputs.npz\n",
      "output file not correctly formatted\n",
      "../../results/inputs.npz\n",
      "ensemble.npz\n",
      "nan 1.0 0.1107610077889048\n",
      "0.9602671010028214 0.7661648234011285 0.8071057860435543\n",
      "0.9437996841113048 0.6029900378900532 0.8629073279287872\n",
      "0.9231290096586657 0.37524225538420597 0.8930432363694166\n",
      "0.9068365112056419 0.1940643912091369 0.897931966301065\n",
      "0.8969792448974404 0.08827275595612055 0.894672150691464\n",
      "0.8921619225846941 0.03437872523214638 0.8916567318391353\n",
      "0.8901019523259631 0.010568920783045301 0.8900290096963918\n",
      "0.8894097923505428 0.0021767816830746208 0.8894138451756478\n",
      "0.8892420984654059 4.2286395555982745e-05 0.8892421713559052\n",
      "0.8892389922110953 0.0 0.8892389922110953\n",
      "sgd6.npz\n",
      "nan 1.0 0.11887458273724369\n",
      "0.9451483256199673 0.6753870230075812 0.8280654903830869\n",
      "0.9262257481120633 0.49068447299644824 0.8699018439039898\n",
      "0.9048315705433193 0.2601928207449267 0.8879422985216978\n",
      "0.8924228630982273 0.12435448381244159 0.888298760133524\n",
      "0.885888022214926 0.0527041205860618 0.8851327292958194\n",
      "0.8829164432702767 0.019611434693749562 0.8828703703703703\n",
      "0.8816036161718196 0.005233560948908546 0.8816217612462248\n",
      "0.8811697034402587 0.0005409023996845327 0.8811738992211096\n",
      "0.8811254172627563 0.0 0.8811254172627563\n",
      "0.8811254172627563 0.0 0.8811254172627563\n",
      "swa5.npz\n",
      "nan 1.0 0.11537672865999045\n",
      "0.9535641953989963 0.7245852976223892 0.8157582260371959\n",
      "0.9363212931983195 0.554655889448558 0.8677209505642981\n",
      "0.915171144972883 0.3294295370212937 0.891426243840407\n",
      "0.9011469282565407 0.17769113673521564 0.8940414878397711\n",
      "0.8928184153879886 0.08890199352793154 0.8910578604355428\n",
      "0.8881178561668203 0.03841021942168225 0.8878763312668893\n",
      "0.8857527990074187 0.012811360772144289 0.8857900174852964\n",
      "0.8848098657383402 0.002138275295493075 0.884824352249245\n",
      "0.8846284882166321 5.778787853729312e-05 0.8846288348434271\n",
      "0.8846232713400095 0.0 0.8846232713400095\n",
      "swag_cov5.npz\n",
      "nan 1.0 0.11483508186297886\n",
      "0.9558692281852359 0.7407162725912444 0.8118594023207756\n",
      "0.9388378365423043 0.5741754709429469 0.8660228898426322\n",
      "0.9175327684185435 0.34774035974464396 0.8916312986806548\n",
      "0.9028220792772929 0.18907284863236773 0.8949777459863296\n",
      "0.8939667066220691 0.09516693061377142 0.8919829915752662\n",
      "0.8889477279481032 0.04139992940405689 0.8886683357176919\n",
      "0.8863819209197249 0.01376174248025729 0.886417103799078\n",
      "0.8853572079774955 0.002222560548102576 0.8853719599427754\n",
      "0.8851710661876199 6.394941577588511e-05 0.8851716738197425\n",
      "0.8851649181370211 0.0 0.8851649181370211\n",
      "swag_diag2.npz\n",
      "nan 1.0 0.11916269273565411\n",
      "0.95143246631271 0.72023481766681 0.8176680972818312\n",
      "0.9331183731789857 0.5480268750741321 0.8669376887617231\n",
      "0.9113516215512164 0.32231013385308355 0.8889258464473057\n",
      "0.8968536633033275 0.17021742277968904 0.8904196471149262\n",
      "0.8881351381867597 0.07940490928876619 0.8866710379907805\n",
      "0.8837148608548057 0.031807863242934366 0.8835403751390877\n",
      "0.8816863039348136 0.009835569534636318 0.8817032268319822\n",
      "0.8809412866990495 0.0013541041299065582 0.8809481799395962\n",
      "0.8808380228589607 8.455214126236935e-06 0.8808381020505482\n",
      "0.880837307264346 0.0 0.880837307264346\n",
      "multiswag_cov.npz\n",
      "nan 1.0 0.10920958512160228\n",
      "0.9648011789921621 0.7937736075788457 0.795798760133524\n",
      "0.9489766526768422 0.6373675228157216 0.8592775393419171\n",
      "0.9271739244068845 0.40134212689766935 0.8931680178032109\n",
      "0.9112737916892197 0.22525239824776333 0.9003874582737242\n",
      "0.9007697029240378 0.11061850548073805 0.8979748847560008\n",
      "0.8948368421668431 0.04575482963651681 0.8943554283897632\n",
      "0.8920040952456504 0.014361289778073213 0.8919810046097599\n",
      "0.8909832720027692 0.002564120067651272 0.890992687966937\n",
      "0.8907933239180718 4.445901517172571e-05 0.8907935940232077\n",
      "0.8907904148783977 0.0 0.8907904148783977\n"
     ]
    }
   ],
   "source": [
    "res_dict = {}\n",
    "for f in os.listdir(dir_to_result):\n",
    "    if f[-3:] == 'npz':\n",
    "        try:\n",
    "            print(f)\n",
    "            npz_arr = np.load(os.path.join(dir_to_result, f))\n",
    "            \n",
    "            targets = npz_arr['targets']\n",
    "            pred = npz_arr['predictions']\n",
    "            pred_uncertainty = npz_arr['predictive_entropy']\n",
    "#             mut_uncertainty = npz_arr['mutual_information']\n",
    "            pred_uncertainty = pred_uncertainty/pred_uncertainty.max()\n",
    "    \n",
    "            cert_res = np.zeros((3, len(np.arange(0,1.1,0.1))))\n",
    "            for i, cert_t in enumerate(np.arange(0,1.1,0.1)):\n",
    "                p_a_c, p_u_i, pa_v_pu, ac, au, ic, iu = \\\n",
    "                eval_uncertaintry_metrics(pred, targets, pred_uncertainty, patch_size=4, cert_threshold=cert_t)\n",
    "                cert_res[:, i] = p_a_c.mean(), p_u_i.mean(), pa_v_pu.mean()\n",
    "                \n",
    "            acc_res = np.zeros((3, len(np.arange(0,1.1,0.1))))\n",
    "#             for i, acc_t in enumerate(np.arange(0,1.1,0.1)):\n",
    "#                 p_a_c, p_u_i, pa_v_pu, ac, au, ic, iu = \\\n",
    "#                 eval_uncertaintry_metrics(pred, targets, pred_uncertainty, patch_size=4, \\\n",
    "#                                           acc_threshold = acc_t, cert_threshold=pred_uncertainty.mean())\n",
    "#                 acc_res[:, i] = p_a_c.mean(), p_u_i.mean(), pa_v_pu.mean()\n",
    "                \n",
    "            res_dict[f] = {'cert': cert_res, 'acc': acc_res}\n",
    "            \n",
    "            \n",
    "        except KeyError:\n",
    "            print('output file not correctly formatted')\n",
    "            print(os.path.join(dir_to_result, f))\n",
    "            continue"
   ]
  },
  {
   "cell_type": "code",
   "execution_count": 10,
   "metadata": {},
   "outputs": [
    {
     "data": {
      "image/png": "[encoded data removed]",
      "text/plain": [
       "<Figure size 432x288 with 1 Axes>"
      ]
     },
     "metadata": {
      "needs_background": "light"
     },
     "output_type": "display_data"
    }
   ],
   "source": [
    "%matplotlib inline\n",
    "for model in res_dict:\n",
    "    if model[-5] in ['6', '5', '2']:\n",
    "        label = model[:-5]\n",
    "    else:\n",
    "        label = model[:-4]\n",
    "    plt.plot(np.arange(0,1.1,0.1), res_dict[model]['cert'][0], label=label, marker='o')\n",
    "\n",
    "plt.xlabel('Uncertainty threshold')\n",
    "plt.ylabel('p(accurate|certain)')\n",
    "plt.legend()\n",
    "plt.savefig('figs/pac_cert_threshold.png')\n",
    "plt.show()"
   ]
  },
  {
   "cell_type": "code",
   "execution_count": 11,
   "metadata": {},
   "outputs": [
    {
     "data": {
      "image/png": "[encoded data removed]",
      "text/plain": [
       "<Figure size 432x288 with 1 Axes>"
      ]
     },
     "metadata": {
      "needs_background": "light"
     },
     "output_type": "display_data"
    }
   ],
   "source": [
    "%matplotlib inline\n",
    "for model in res_dict:\n",
    "    if model[-5] in ['6', '5', '2']:\n",
    "        label = model[:-5]\n",
    "    else:\n",
    "        label = model[:-4]\n",
    "    plt.plot(np.arange(0,1.1,0.1), res_dict[model]['cert'][1], label=label, marker='o')\n",
    "\n",
    "plt.xlabel('Uncertainty threshold')\n",
    "plt.ylabel('p(uncertain|inaccurate)')\n",
    "plt.legend()\n",
    "plt.savefig('figs/pui_cert_threshold.png')\n",
    "plt.show()"
   ]
  },
  {
   "cell_type": "code",
   "execution_count": 16,
   "metadata": {},
   "outputs": [
    {
     "data": {
      "image/png": "[encoded data removed]",
      "text/plain": [
       "<Figure size 432x288 with 1 Axes>"
      ]
     },
     "metadata": {
      "needs_background": "light"
     },
     "output_type": "display_data"
    }
   ],
   "source": [
    "%matplotlib inline\n",
    "for model in res_dict:\n",
    "    if model[-5] in ['6', '5', '2']:\n",
    "        label = model[:-5]\n",
    "    else:\n",
    "        label = model[:-4]\n",
    "    plt.plot(np.arange(0,1.1,0.1), res_dict[model]['cert'][2], label=label, marker='o')\n",
    "\n",
    "plt.xlabel('Uncertainty threshold')\n",
    "plt.ylabel('PAvPU')\n",
    "plt.legend()\n",
    "plt.savefig('figs/pavpu_cert_threshold.png')\n",
    "plt.show()"
   ]
  },
  {
   "cell_type": "code",
   "execution_count": 15,
   "metadata": {},
   "outputs": [
    {
     "data": {
      "image/png": "[encoded data removed]",
      "text/plain": [
       "<Figure size 432x288 with 1 Axes>"
      ]
     },
     "metadata": {
      "needs_background": "light"
     },
     "output_type": "display_data"
    }
   ],
   "source": [
    "%matplotlib inline\n",
    "for model in res_dict:\n",
    "    if model[-5] in ['6', '5', '2']:\n",
    "        label = model[:-5]\n",
    "    else:\n",
    "        label = model[:-4]\n",
    "        \n",
    "    u1 = 2 * np.multiply(res_dict[model]['cert'][0], res_dict[model]['cert'][1])/(res_dict[model]['cert'][0] + res_dict[model]['cert'][1])\n",
    "    plt.plot(np.arange(0,1.1,0.1), u1, label=label, marker='o')\n",
    "\n",
    "plt.xlabel('Uncertainty threshold')\n",
    "plt.ylabel('U1 score')\n",
    "plt.legend()\n",
    "plt.savefig('figs/u1_cert_threshold.png')\n",
    "plt.show()"
   ]
  },
  {
   "cell_type": "code",
   "execution_count": 23,
   "metadata": {},
   "outputs": [],
   "source": [
    "npz_arr = np.load('../../results/multiswag_cov.npz')"
   ]
  },
  {
   "cell_type": "code",
   "execution_count": 24,
   "metadata": {},
   "outputs": [
    {
     "data": {
      "text/plain": [
       "(233, 360, 480)"
      ]
     },
     "execution_count": 24,
     "metadata": {},
     "output_type": "execute_result"
    }
   ],
   "source": [
    "targets = npz_arr['targets']\n",
    "targets.shape"
   ]
  },
  {
   "cell_type": "code",
   "execution_count": 25,
   "metadata": {},
   "outputs": [
    {
     "data": {
      "text/plain": [
       "(233, 11, 360, 480)"
      ]
     },
     "execution_count": 25,
     "metadata": {},
     "output_type": "execute_result"
    }
   ],
   "source": [
    "pred = npz_arr['predictions']\n",
    "pred.shape"
   ]
  },
  {
   "cell_type": "code",
   "execution_count": 26,
   "metadata": {},
   "outputs": [
    {
     "data": {
      "text/plain": [
       "(233, 360, 480)"
      ]
     },
     "execution_count": 26,
     "metadata": {},
     "output_type": "execute_result"
    }
   ],
   "source": [
    "pred_uncertainty = npz_arr['predictive_entropy']\n",
    "pred_uncertainty.shape"
   ]
  },
  {
   "cell_type": "code",
   "execution_count": 27,
   "metadata": {},
   "outputs": [
    {
     "data": {
      "text/plain": [
       "(233, 360, 480)"
      ]
     },
     "execution_count": 27,
     "metadata": {},
     "output_type": "execute_result"
    }
   ],
   "source": [
    "mut_uncertainty = npz_arr['mutual_information']\n",
    "mut_uncertainty.shape"
   ]
  },
  {
   "cell_type": "code",
   "execution_count": 47,
   "metadata": {},
   "outputs": [
    {
     "name": "stdout",
     "output_type": "stream",
     "text": [
      "0.9679518746077506 0.8306625865570391 0.7711310801144492\n"
     ]
    }
   ],
   "source": [
    "p_a_c, p_u_i, pa_v_pu, ac, au, ic, iu = eval_uncertaintry_metrics(pred, targets, pred_uncertainty, patch_size=6, cert_threshold=pred_uncertainty.mean())"
   ]
  },
  {
   "cell_type": "code",
   "execution_count": 15,
   "metadata": {},
   "outputs": [
    {
     "data": {
      "text/plain": [
       "(0.9586136528812584, 0.7913964702527173, 0.7839851573676682)"
      ]
     },
     "execution_count": 15,
     "metadata": {},
     "output_type": "execute_result"
    }
   ],
   "source": [
    "p_a_c.mean(), p_u_i.mean(), pa_v_pu.mean()"
   ]
  },
  {
   "cell_type": "code",
   "execution_count": 22,
   "metadata": {},
   "outputs": [],
   "source": [
    "Sky = [128, 128, 128]\n",
    "Building = [128, 0, 0]\n",
    "Pole = [192, 192, 128]\n",
    "Road = [128, 64, 128]\n",
    "Pavement = [60, 40, 222]\n",
    "Tree = [128, 128, 0]\n",
    "SignSymbol = [192, 128, 128]\n",
    "Fence = [64, 64, 128]\n",
    "Car = [64, 0, 128]\n",
    "Pedestrian = [64, 64, 0]\n",
    "Bicyclist = [0, 128, 192]\n",
    "Unlabelled = [0, 0, 0]\n",
    "\n",
    "DSET_MEAN = [0.41189489566336, 0.4251328133025, 0.4326707089857]\n",
    "DSET_STD = [0.27413549931506, 0.28506257482912, 0.28284674400252]\n",
    "\n",
    "label_colours = np.array(\n",
    "    [\n",
    "        Sky,\n",
    "        Building,\n",
    "        Pole,\n",
    "        Road,\n",
    "        Pavement,\n",
    "        Tree,\n",
    "        SignSymbol,\n",
    "        Fence,\n",
    "        Car,\n",
    "        Pedestrian,\n",
    "        Bicyclist,\n",
    "        Unlabelled,\n",
    "    ]\n",
    ")\n",
    "\n",
    "\n",
    "def view_annotated(tensor, plot=True):\n",
    "#     temp = tensor.numpy()\n",
    "    temp = tensor\n",
    "    r = temp.copy()\n",
    "    g = temp.copy()\n",
    "    b = temp.copy()\n",
    "    for l in range(0, 11):\n",
    "        r[temp == l] = label_colours[l, 0]\n",
    "        g[temp == l] = label_colours[l, 1]\n",
    "        b[temp == l] = label_colours[l, 2]\n",
    "\n",
    "    rgb = np.zeros((temp.shape[0], temp.shape[1], 3))\n",
    "    rgb[:, :, 0] = r / 255.0  # [:,:,0]\n",
    "    rgb[:, :, 1] = g / 255.0  # [:,:,1]\n",
    "    rgb[:, :, 2] = b / 255.0  # [:,:,2]\n",
    "    if plot:\n",
    "        plt.imshow(rgb)\n",
    "#         plt.show()\n",
    "    else:\n",
    "        return rgb\n",
    "\n",
    "\n",
    "def decode_image(tensor):\n",
    "    inp = tensor.transpose((1, 2, 0))\n",
    "#     inp = tensor.numpy().transpose((1, 2, 0))\n",
    "    mean = np.array(DSET_MEAN)\n",
    "    std = np.array(DSET_STD)\n",
    "    inp = std * inp + mean\n",
    "    return inp\n",
    "\n",
    "\n",
    "def view_image(tensor):\n",
    "    inp = decode_image(tensor)\n",
    "    inp = np.clip(inp, 0, 1)\n",
    "    plt.imshow(inp)\n",
    "#     plt.show()"
   ]
  },
  {
   "cell_type": "code",
   "execution_count": 25,
   "metadata": {},
   "outputs": [],
   "source": [
    "pred_labels = np.argmax(pred, axis=1)"
   ]
  },
  {
   "cell_type": "code",
   "execution_count": 26,
   "metadata": {},
   "outputs": [
    {
     "ename": "NameError",
     "evalue": "name 'mut_uncertainty' is not defined",
     "output_type": "error",
     "traceback": [
      "\u001b[0;31m---------------------------------------------------------------------------\u001b[0m",
      "\u001b[0;31mNameError\u001b[0m                                 Traceback (most recent call last)",
      "\u001b[0;32m<ipython-input-26-1648cf9a98ff>\u001b[0m in \u001b[0;36m<module>\u001b[0;34m\u001b[0m\n\u001b[1;32m      2\u001b[0m \u001b[0mpred_cert_viz\u001b[0m \u001b[0;34m=\u001b[0m \u001b[0mpred_uncertainty\u001b[0m\u001b[0;34m/\u001b[0m\u001b[0mentropy_max\u001b[0m\u001b[0;34m*\u001b[0m\u001b[0;36m255\u001b[0m\u001b[0;34m\u001b[0m\u001b[0;34m\u001b[0m\u001b[0m\n\u001b[1;32m      3\u001b[0m \u001b[0;34m\u001b[0m\u001b[0m\n\u001b[0;32m----> 4\u001b[0;31m \u001b[0minfo_max\u001b[0m\u001b[0;34m,\u001b[0m \u001b[0minfo_min\u001b[0m \u001b[0;34m=\u001b[0m \u001b[0mmut_uncertainty\u001b[0m\u001b[0;34m.\u001b[0m\u001b[0mmax\u001b[0m\u001b[0;34m(\u001b[0m\u001b[0;34m)\u001b[0m\u001b[0;34m,\u001b[0m \u001b[0mmut_uncertainty\u001b[0m\u001b[0;34m.\u001b[0m\u001b[0mmin\u001b[0m\u001b[0;34m(\u001b[0m\u001b[0;34m)\u001b[0m\u001b[0;34m\u001b[0m\u001b[0;34m\u001b[0m\u001b[0m\n\u001b[0m\u001b[1;32m      5\u001b[0m \u001b[0minfo_cert_viz\u001b[0m \u001b[0;34m=\u001b[0m \u001b[0mmut_uncertainty\u001b[0m\u001b[0;34m/\u001b[0m\u001b[0minfo_max\u001b[0m\u001b[0;34m*\u001b[0m\u001b[0;36m255\u001b[0m\u001b[0;34m\u001b[0m\u001b[0;34m\u001b[0m\u001b[0m\n",
      "\u001b[0;31mNameError\u001b[0m: name 'mut_uncertainty' is not defined"
     ]
    }
   ],
   "source": [
    "entropy_max, entropy_min = pred_uncertainty.max(), pred_uncertainty.min()\n",
    "pred_cert_viz = pred_uncertainty/entropy_max*255\n",
    "\n",
    "info_max, info_min = mut_uncertainty.max(), mut_uncertainty.min()\n",
    "info_cert_viz = mut_uncertainty/info_max*255"
   ]
  },
  {
   "cell_type": "code",
   "execution_count": 89,
   "metadata": {},
   "outputs": [
    {
     "data": {
      "text/plain": [
       "array([127, 100,  97,  53,  73, 131])"
      ]
     },
     "execution_count": 89,
     "metadata": {},
     "output_type": "execute_result"
    }
   ],
   "source": [
    "indices = np.concatenate((pa_v_pu_argsort[:3], pa_v_pu_argsort[-3:]))\n",
    "indices"
   ]
  },
  {
   "cell_type": "code",
   "execution_count": 28,
   "metadata": {},
   "outputs": [],
   "source": [
    "npz_arr = np.load('../../results/dropout6.npz')\n",
    "pred_uncertainty = npz_arr['predictive_entropy']\n",
    "entropy_max, entropy_min = pred_uncertainty.max(), pred_uncertainty.min()\n",
    "pred_cert_viz_dropout = pred_uncertainty/entropy_max*255\n",
    "\n",
    "mut_uncertainty = npz_arr['mutual_information']\n",
    "info_max, info_min = mut_uncertainty.max(), mut_uncertainty.min()\n",
    "info_cert_viz = mut_uncertainty/info_max*255\n",
    "\n",
    "npz_arr = np.load('../../results/sgd6.npz')\n",
    "pred_uncertainty = npz_arr['predictive_entropy']\n",
    "entropy_max, entropy_min = pred_uncertainty.max(), pred_uncertainty.min()\n",
    "pred_cert_viz_sgd = pred_uncertainty/entropy_max*255"
   ]
  },
  {
   "cell_type": "code",
   "execution_count": 34,
   "metadata": {},
   "outputs": [],
   "source": [
    "%matplotlib qt\n",
    "\n",
    "pa_v_pu_argsort = np.argsort(pa_v_pu)\n",
    "indices = [73, 100] # sucess case 73, failure case 100\n",
    "num_example = len(indices)\n",
    "fig, axs = plt.subplots(num_example, 7)\n",
    "for ax, i in enumerate(indices):\n",
    "    # multiswag result\n",
    "    \n",
    "    plt.subplot(axs[ax, 0])\n",
    "    plt.imshow(inputs[i].transpose(1,2,0))\n",
    "    if ax == 0:\n",
    "        plt.title('Input')\n",
    "    plt.axis('off')\n",
    "    \n",
    "    plt.subplot(axs[ax, 1])\n",
    "    view_annotated(targets[i])\n",
    "    if ax == 0:\n",
    "        plt.title('Target')\n",
    "    plt.axis('off')\n",
    "    \n",
    "    plt.subplot(axs[ax, 2])\n",
    "    view_annotated(pred_labels[i])\n",
    "    if ax == 0:\n",
    "        plt.title('Prediction (MultiSWAG)')\n",
    "    plt.axis('off')\n",
    "    \n",
    "    plt.subplot(axs[ax, 3])\n",
    "    plt.imshow(pred_cert_viz_sgd[i], cmap='inferno')\n",
    "    if ax == 0:\n",
    "        plt.title('Predictive (SGD)')\n",
    "    plt.axis('off')\n",
    "    \n",
    "    plt.subplot(axs[ax, 4])\n",
    "    plt.imshow(pred_cert_viz[i], cmap='inferno')\n",
    "    if ax == 0:\n",
    "        plt.title('Predictive (MultiSWAG)')\n",
    "    plt.axis('off')\n",
    "\n",
    "    plt.subplot(axs[ax, 5])\n",
    "    plt.imshow(pred_cert_viz_dropout[i], cmap='inferno')\n",
    "    if ax == 0:\n",
    "        plt.title('Predictive (Dropout)')\n",
    "    plt.axis('off')\n",
    "    \n",
    "    plt.subplot(axs[ax, 6])\n",
    "    plt.imshow(info_cert_viz[i], cmap='inferno')\n",
    "    if ax == 0:\n",
    "        plt.title('Epistemic (Dropout)')\n",
    "    plt.axis('off')\n",
    "      \n",
    "# plt.savefig('uncert_viz.png', bbox_inches='tight')\n",
    "plt.show()"
   ]
  },
  {
   "cell_type": "code",
   "execution_count": 70,
   "metadata": {},
   "outputs": [
    {
     "data": {
      "image/png": "[encoded data removed]",
      "text/plain": [
       "<Figure size 432x288 with 1 Axes>"
      ]
     },
     "metadata": {
      "needs_background": "light"
     },
     "output_type": "display_data"
    }
   ],
   "source": [
    "%matplotlib inline\n",
    "plt.imshow(ac[0]+au[0]*2+ic[0]*3+iu[0]*4, cmap='inferno')\n",
    "plt.show()"
   ]
  },
  {
   "cell_type": "code",
   "execution_count": 105,
   "metadata": {},
   "outputs": [
    {
     "data": {
      "text/plain": [
       "(3264.802575107296, 994.7081545064377, 103.86266094420601, 436.6266094420601)"
      ]
     },
     "execution_count": 105,
     "metadata": {},
     "output_type": "execute_result"
    }
   ],
   "source": [
    "np.sum(ac, axis=(1,2)).mean(), np.sum(au, axis=(1,2)).mean(), np.sum(ic, axis=(1,2)).mean(), np.sum(iu, axis=(1,2)).mean()"
   ]
  },
  {
   "cell_type": "code",
   "execution_count": 106,
   "metadata": {},
   "outputs": [
    {
     "data": {
      "text/plain": [
       "0.18315413665680738"
      ]
     },
     "execution_count": 106,
     "metadata": {},
     "output_type": "execute_result"
    }
   ],
   "source": [
    "pred_uncertainty.mean()"
   ]
  },
  {
   "cell_type": "code",
   "execution_count": 109,
   "metadata": {},
   "outputs": [
    {
     "data": {
      "text/plain": [
       "(array([3.0274163e+07, 3.1666930e+06, 2.9561650e+06, 2.0589140e+06,\n",
       "        9.6600200e+05, 5.0120200e+05, 2.2818400e+05, 8.7547000e+04,\n",
       "        2.2203000e+04, 1.3270000e+03]),\n",
       " array([9.04276442e-08, 2.29570127e-01, 4.59140163e-01, 6.88710199e-01,\n",
       "        9.18280236e-01, 1.14785027e+00, 1.37742031e+00, 1.60699034e+00,\n",
       "        1.83656038e+00, 2.06613042e+00, 2.29570045e+00]),\n",
       " <a list of 10 Patch objects>)"
      ]
     },
     "execution_count": 109,
     "metadata": {},
     "output_type": "execute_result"
    },
    {
     "data": {
      "image/png": "[encoded data removed]",
      "text/plain": [
       "<Figure size 432x288 with 1 Axes>"
      ]
     },
     "metadata": {
      "needs_background": "light"
     },
     "output_type": "display_data"
    }
   ],
   "source": [
    "plt.hist(pred_uncertainty.flatten())"
   ]
  },
  {
   "cell_type": "code",
   "execution_count": 23,
   "metadata": {},
   "outputs": [],
   "source": [
    "npz_arr = np.load('../../results/dropout6.npz')\n",
    "            \n",
    "targets = npz_arr['targets']\n",
    "pred = npz_arr['predictions']\n",
    "pred_uncertainty = npz_arr['predictive_entropy']\n",
    "\n",
    "p_a_c, p_u_i, pa_v_pu, ac, au, ic, iu = eval_uncertaintry_metrics(pred, targets, pred_uncertainty, patch_size=6, cert_threshold=pred_uncertainty.mean())"
   ]
  },
  {
   "cell_type": "code",
   "execution_count": 20,
   "metadata": {},
   "outputs": [
    {
     "data": {
      "text/plain": [
       "0.44193193809748116"
      ]
     },
     "execution_count": 20,
     "metadata": {},
     "output_type": "execute_result"
    }
   ],
   "source": [
    "pred_uncertainty.mean()"
   ]
  },
  {
   "cell_type": "code",
   "execution_count": 19,
   "metadata": {},
   "outputs": [
    {
     "data": {
      "text/plain": [
       "(2741.107296137339, 1252.480686695279, 117.76824034334764, 688.6437768240344)"
      ]
     },
     "execution_count": 19,
     "metadata": {},
     "output_type": "execute_result"
    }
   ],
   "source": [
    "np.sum(ac, axis=(1,2)).mean(), np.sum(au, axis=(1,2)).mean(), np.sum(ic, axis=(1,2)).mean(), np.sum(iu, axis=(1,2)).mean()"
   ]
  },
  {
   "cell_type": "code",
   "execution_count": null,
   "metadata": {},
   "outputs": [],
   "source": []
  }
 ],
 "metadata": {
  "kernelspec": {
   "display_name": "Python 3",
   "language": "python",
   "name": "python3"
  },
  "language_info": {
   "codemirror_mode": {
    "name": "ipython",
    "version": 3
   },
   "file_extension": ".py",
   "mimetype": "text/x-python",
   "name": "python",
   "nbconvert_exporter": "python",
   "pygments_lexer": "ipython3",
   "version": "3.8.2"
  }
 },
 "nbformat": 4,
 "nbformat_minor": 4
}
